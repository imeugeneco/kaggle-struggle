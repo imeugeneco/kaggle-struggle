{
 "cells": [
  {
   "cell_type": "markdown",
   "metadata": {},
   "source": [
    "# Missing Values"
   ]
  },
  {
   "cell_type": "code",
   "execution_count": 1,
   "metadata": {},
   "outputs": [
    {
     "data": {
      "text/html": [
       "<div>\n",
       "<style scoped>\n",
       "    .dataframe tbody tr th:only-of-type {\n",
       "        vertical-align: middle;\n",
       "    }\n",
       "\n",
       "    .dataframe tbody tr th {\n",
       "        vertical-align: top;\n",
       "    }\n",
       "\n",
       "    .dataframe thead th {\n",
       "        text-align: right;\n",
       "    }\n",
       "</style>\n",
       "<table border=\"1\" class=\"dataframe\">\n",
       "  <thead>\n",
       "    <tr style=\"text-align: right;\">\n",
       "      <th></th>\n",
       "      <th>Rooms</th>\n",
       "      <th>Distance</th>\n",
       "      <th>Postcode</th>\n",
       "      <th>Bedroom2</th>\n",
       "      <th>Bathroom</th>\n",
       "      <th>Car</th>\n",
       "      <th>Landsize</th>\n",
       "      <th>BuildingArea</th>\n",
       "      <th>YearBuilt</th>\n",
       "      <th>Lattitude</th>\n",
       "      <th>Longtitude</th>\n",
       "      <th>Propertycount</th>\n",
       "    </tr>\n",
       "  </thead>\n",
       "  <tbody>\n",
       "    <tr>\n",
       "      <th>664</th>\n",
       "      <td>3</td>\n",
       "      <td>9.2</td>\n",
       "      <td>3104.0</td>\n",
       "      <td>3.0</td>\n",
       "      <td>2.0</td>\n",
       "      <td>2.0</td>\n",
       "      <td>368.0</td>\n",
       "      <td>177.0</td>\n",
       "      <td>2009.0</td>\n",
       "      <td>-37.78460</td>\n",
       "      <td>145.09350</td>\n",
       "      <td>7809.0</td>\n",
       "    </tr>\n",
       "    <tr>\n",
       "      <th>3270</th>\n",
       "      <td>2</td>\n",
       "      <td>10.5</td>\n",
       "      <td>3081.0</td>\n",
       "      <td>2.0</td>\n",
       "      <td>1.0</td>\n",
       "      <td>2.0</td>\n",
       "      <td>586.0</td>\n",
       "      <td>80.0</td>\n",
       "      <td>1955.0</td>\n",
       "      <td>-37.74350</td>\n",
       "      <td>145.04860</td>\n",
       "      <td>2947.0</td>\n",
       "    </tr>\n",
       "    <tr>\n",
       "      <th>3873</th>\n",
       "      <td>2</td>\n",
       "      <td>11.2</td>\n",
       "      <td>3145.0</td>\n",
       "      <td>2.0</td>\n",
       "      <td>1.0</td>\n",
       "      <td>1.0</td>\n",
       "      <td>348.0</td>\n",
       "      <td>NaN</td>\n",
       "      <td>NaN</td>\n",
       "      <td>-37.86720</td>\n",
       "      <td>145.04320</td>\n",
       "      <td>8801.0</td>\n",
       "    </tr>\n",
       "    <tr>\n",
       "      <th>13170</th>\n",
       "      <td>3</td>\n",
       "      <td>19.6</td>\n",
       "      <td>3076.0</td>\n",
       "      <td>3.0</td>\n",
       "      <td>1.0</td>\n",
       "      <td>1.0</td>\n",
       "      <td>521.0</td>\n",
       "      <td>NaN</td>\n",
       "      <td>NaN</td>\n",
       "      <td>-37.63854</td>\n",
       "      <td>145.05179</td>\n",
       "      <td>10926.0</td>\n",
       "    </tr>\n",
       "    <tr>\n",
       "      <th>1730</th>\n",
       "      <td>4</td>\n",
       "      <td>11.4</td>\n",
       "      <td>3163.0</td>\n",
       "      <td>3.0</td>\n",
       "      <td>2.0</td>\n",
       "      <td>2.0</td>\n",
       "      <td>687.0</td>\n",
       "      <td>237.0</td>\n",
       "      <td>1983.0</td>\n",
       "      <td>-37.89310</td>\n",
       "      <td>145.04790</td>\n",
       "      <td>7822.0</td>\n",
       "    </tr>\n",
       "  </tbody>\n",
       "</table>\n",
       "</div>"
      ],
      "text/plain": [
       "       Rooms  Distance  Postcode  Bedroom2  Bathroom  Car  Landsize  \\\n",
       "664        3       9.2    3104.0       3.0       2.0  2.0     368.0   \n",
       "3270       2      10.5    3081.0       2.0       1.0  2.0     586.0   \n",
       "3873       2      11.2    3145.0       2.0       1.0  1.0     348.0   \n",
       "13170      3      19.6    3076.0       3.0       1.0  1.0     521.0   \n",
       "1730       4      11.4    3163.0       3.0       2.0  2.0     687.0   \n",
       "\n",
       "       BuildingArea  YearBuilt  Lattitude  Longtitude  Propertycount  \n",
       "664           177.0     2009.0  -37.78460   145.09350         7809.0  \n",
       "3270           80.0     1955.0  -37.74350   145.04860         2947.0  \n",
       "3873            NaN        NaN  -37.86720   145.04320         8801.0  \n",
       "13170           NaN        NaN  -37.63854   145.05179        10926.0  \n",
       "1730          237.0     1983.0  -37.89310   145.04790         7822.0  "
      ]
     },
     "execution_count": 1,
     "metadata": {},
     "output_type": "execute_result"
    }
   ],
   "source": [
    "import pandas as pd\n",
    "from sklearn.model_selection import train_test_split\n",
    "\n",
    "data = pd.read_csv('./data/melb_data.csv')\n",
    "y = data['Price']\n",
    "\n",
    "# Using only numerical predictors...\n",
    "melb_predictors = data.drop(['Price'], axis=1)\n",
    "X = melb_predictors.select_dtypes(exclude=['object'])\n",
    "\n",
    "# Splitting the data into training and validation subsets\n",
    "X_train, X_val, y_train, y_val = train_test_split(X, y, random_state=0)\n",
    "\n",
    "X_train.head()"
   ]
  },
  {
   "cell_type": "code",
   "execution_count": 2,
   "metadata": {},
   "outputs": [
    {
     "data": {
      "text/plain": [
       "Rooms               0\n",
       "Distance            0\n",
       "Postcode            0\n",
       "Bedroom2            0\n",
       "Bathroom            0\n",
       "Car                47\n",
       "Landsize            0\n",
       "BuildingArea     4843\n",
       "YearBuilt        4042\n",
       "Lattitude           0\n",
       "Longtitude          0\n",
       "Propertycount       0\n",
       "dtype: int64"
      ]
     },
     "execution_count": 2,
     "metadata": {},
     "output_type": "execute_result"
    }
   ],
   "source": [
    "X_train.isnull().sum()"
   ]
  },
  {
   "cell_type": "markdown",
   "metadata": {},
   "source": [
    "## Three Approaches...\n",
    "1. **Drop Columns with Missing Values**\n",
    "2. **Imputation**: This is the standard approach of filling in the missing values with some number (ex. mean value)\n",
    "3. **An Extension to Imputation**: Imputed values may be systematically above or below their actual values or rows with missing values may be unique in some other way. In this case, the model would make better predictions by considering which values were originally missing. In this approach, the missing values are imputed, and additionally, for each column with missing entries in the original dataset, a new column is added that shows the location for the imputed entries."
   ]
  },
  {
   "cell_type": "code",
   "execution_count": 3,
   "metadata": {},
   "outputs": [],
   "source": [
    "# defining a function to measure quality of each approach:\n",
    "from sklearn.ensemble import RandomForestRegressor\n",
    "from sklearn.metrics import mean_absolute_error\n",
    "\n",
    "def score_dataset(X_train, X_val, y_train, y_val):\n",
    "    model = RandomForestRegressor(n_estimators = 10, random_state=0)\n",
    "    model.fit(X_train, y_train)\n",
    "    prediction = model.predict(X_val)\n",
    "    return mean_absolute_error(y_val, prediction)"
   ]
  },
  {
   "cell_type": "markdown",
   "metadata": {},
   "source": [
    "### Approach 1: Drop Columns with Missing Values"
   ]
  },
  {
   "cell_type": "code",
   "execution_count": 4,
   "metadata": {},
   "outputs": [
    {
     "name": "stdout",
     "output_type": "stream",
     "text": [
      "MAE from Approach 1: \n",
      "187451.32209832387\n"
     ]
    }
   ],
   "source": [
    "# Get names of columns with missing values\n",
    "cols_with_missing = [col for col in X_train.columns if X_train[col].isnull().any()]\n",
    "# Drop columns in training and validation data\n",
    "reduced_X_train = X_train.drop(cols_with_missing, axis=1)\n",
    "reduced_X_val = X_val.drop(cols_with_missing, axis=1)\n",
    "\n",
    "print(\"MAE from Approach 1: \")\n",
    "print(score_dataset(reduced_X_train, reduced_X_val, y_train, y_val))"
   ]
  },
  {
   "cell_type": "markdown",
   "metadata": {},
   "source": [
    "### Approach 2: Imputation\n",
    "Filling in the missing values with mean value along each column"
   ]
  },
  {
   "cell_type": "code",
   "execution_count": 5,
   "metadata": {},
   "outputs": [
    {
     "data": {
      "text/html": [
       "<div>\n",
       "<style scoped>\n",
       "    .dataframe tbody tr th:only-of-type {\n",
       "        vertical-align: middle;\n",
       "    }\n",
       "\n",
       "    .dataframe tbody tr th {\n",
       "        vertical-align: top;\n",
       "    }\n",
       "\n",
       "    .dataframe thead th {\n",
       "        text-align: right;\n",
       "    }\n",
       "</style>\n",
       "<table border=\"1\" class=\"dataframe\">\n",
       "  <thead>\n",
       "    <tr style=\"text-align: right;\">\n",
       "      <th></th>\n",
       "      <th>0</th>\n",
       "      <th>1</th>\n",
       "      <th>2</th>\n",
       "      <th>3</th>\n",
       "      <th>4</th>\n",
       "      <th>5</th>\n",
       "      <th>6</th>\n",
       "      <th>7</th>\n",
       "      <th>8</th>\n",
       "      <th>9</th>\n",
       "      <th>10</th>\n",
       "      <th>11</th>\n",
       "    </tr>\n",
       "  </thead>\n",
       "  <tbody>\n",
       "    <tr>\n",
       "      <th>0</th>\n",
       "      <td>3.0</td>\n",
       "      <td>9.2</td>\n",
       "      <td>3104.0</td>\n",
       "      <td>3.0</td>\n",
       "      <td>2.0</td>\n",
       "      <td>2.0</td>\n",
       "      <td>368.0</td>\n",
       "      <td>177.000000</td>\n",
       "      <td>2009.000000</td>\n",
       "      <td>-37.78460</td>\n",
       "      <td>145.09350</td>\n",
       "      <td>7809.0</td>\n",
       "    </tr>\n",
       "    <tr>\n",
       "      <th>1</th>\n",
       "      <td>2.0</td>\n",
       "      <td>10.5</td>\n",
       "      <td>3081.0</td>\n",
       "      <td>2.0</td>\n",
       "      <td>1.0</td>\n",
       "      <td>2.0</td>\n",
       "      <td>586.0</td>\n",
       "      <td>80.000000</td>\n",
       "      <td>1955.000000</td>\n",
       "      <td>-37.74350</td>\n",
       "      <td>145.04860</td>\n",
       "      <td>2947.0</td>\n",
       "    </tr>\n",
       "    <tr>\n",
       "      <th>2</th>\n",
       "      <td>2.0</td>\n",
       "      <td>11.2</td>\n",
       "      <td>3145.0</td>\n",
       "      <td>2.0</td>\n",
       "      <td>1.0</td>\n",
       "      <td>1.0</td>\n",
       "      <td>348.0</td>\n",
       "      <td>154.655601</td>\n",
       "      <td>1964.938304</td>\n",
       "      <td>-37.86720</td>\n",
       "      <td>145.04320</td>\n",
       "      <td>8801.0</td>\n",
       "    </tr>\n",
       "    <tr>\n",
       "      <th>3</th>\n",
       "      <td>3.0</td>\n",
       "      <td>19.6</td>\n",
       "      <td>3076.0</td>\n",
       "      <td>3.0</td>\n",
       "      <td>1.0</td>\n",
       "      <td>1.0</td>\n",
       "      <td>521.0</td>\n",
       "      <td>154.655601</td>\n",
       "      <td>1964.938304</td>\n",
       "      <td>-37.63854</td>\n",
       "      <td>145.05179</td>\n",
       "      <td>10926.0</td>\n",
       "    </tr>\n",
       "    <tr>\n",
       "      <th>4</th>\n",
       "      <td>4.0</td>\n",
       "      <td>11.4</td>\n",
       "      <td>3163.0</td>\n",
       "      <td>3.0</td>\n",
       "      <td>2.0</td>\n",
       "      <td>2.0</td>\n",
       "      <td>687.0</td>\n",
       "      <td>237.000000</td>\n",
       "      <td>1983.000000</td>\n",
       "      <td>-37.89310</td>\n",
       "      <td>145.04790</td>\n",
       "      <td>7822.0</td>\n",
       "    </tr>\n",
       "  </tbody>\n",
       "</table>\n",
       "</div>"
      ],
      "text/plain": [
       "     0     1       2    3    4    5      6           7            8         9  \\\n",
       "0  3.0   9.2  3104.0  3.0  2.0  2.0  368.0  177.000000  2009.000000 -37.78460   \n",
       "1  2.0  10.5  3081.0  2.0  1.0  2.0  586.0   80.000000  1955.000000 -37.74350   \n",
       "2  2.0  11.2  3145.0  2.0  1.0  1.0  348.0  154.655601  1964.938304 -37.86720   \n",
       "3  3.0  19.6  3076.0  3.0  1.0  1.0  521.0  154.655601  1964.938304 -37.63854   \n",
       "4  4.0  11.4  3163.0  3.0  2.0  2.0  687.0  237.000000  1983.000000 -37.89310   \n",
       "\n",
       "          10       11  \n",
       "0  145.09350   7809.0  \n",
       "1  145.04860   2947.0  \n",
       "2  145.04320   8801.0  \n",
       "3  145.05179  10926.0  \n",
       "4  145.04790   7822.0  "
      ]
     },
     "execution_count": 5,
     "metadata": {},
     "output_type": "execute_result"
    }
   ],
   "source": [
    "from sklearn.impute import SimpleImputer\n",
    "\n",
    "# imputation\n",
    "my_imputer = SimpleImputer()\n",
    "imputed_X_train = pd.DataFrame(my_imputer.fit_transform(X_train))\n",
    "imputed_X_val = pd.DataFrame(my_imputer.transform(X_val))\n",
    "\n",
    "imputed_X_train.head()"
   ]
  },
  {
   "cell_type": "code",
   "execution_count": 6,
   "metadata": {},
   "outputs": [
    {
     "name": "stdout",
     "output_type": "stream",
     "text": [
      "MAE from Approach 2: \n",
      "183550.01819342168\n"
     ]
    }
   ],
   "source": [
    "# imputation removed column names; put them back\n",
    "imputed_X_train.columns = X_train.columns\n",
    "imputed_X_val.columns = X_val.columns\n",
    "\n",
    "print(\"MAE from Approach 2: \")\n",
    "print(score_dataset(imputed_X_train, imputed_X_val, y_train, y_val))"
   ]
  },
  {
   "cell_type": "markdown",
   "metadata": {},
   "source": [
    "### Approach 3: Extension to Imputation\n",
    "Impute the missing values while also keeping track of which values were imputed"
   ]
  },
  {
   "cell_type": "code",
   "execution_count": 14,
   "metadata": {},
   "outputs": [],
   "source": [
    "# Make copy to avoid changing original data\n",
    "new_X_train = X_train.copy()\n",
    "new_X_val = X_val.copy()\n",
    "\n",
    "# Make new columns indicating what will be imputed\n",
    "for col in cols_with_missing:\n",
    "    new_X_train[col + \"_was_missing\"] = new_X_train[col].isnull()\n",
    "    new_X_val[col + \"_was_missing\"] = new_X_val[col].isnull()\n",
    "\n",
    "# Imputation\n",
    "my_imputer = SimpleImputer()\n",
    "imputed_new_X_train = pd.DataFrame(my_imputer.fit_transform(new_X_train))\n",
    "imputed_new_X_val = pd.DataFrame(my_imputer.transform(new_X_val))\n",
    "\n",
    "# bringing back the column names\n",
    "imputed_new_X_train.columns = new_X_train.columns\n",
    "imputed_new_X_val.columns = new_X_val.columns"
   ]
  },
  {
   "cell_type": "code",
   "execution_count": 15,
   "metadata": {},
   "outputs": [
    {
     "name": "stdout",
     "output_type": "stream",
     "text": [
      "MAE from Approach 3: \n",
      "183554.2254688267\n"
     ]
    }
   ],
   "source": [
    "print(\"MAE from Approach 3: \")\n",
    "print(score_dataset(imputed_new_X_train, imputed_new_X_val, y_train, y_val))"
   ]
  },
  {
   "cell_type": "markdown",
   "metadata": {},
   "source": [
    "## Results\n",
    "* **Approach 1** MAE: ```187451.32209832387```\n",
    "* **Approach 2** MAE: ```183550.01819342168```\n",
    "* **Approach 3** MAE: ```183554.2254688267```"
   ]
  },
  {
   "cell_type": "code",
   "execution_count": null,
   "metadata": {},
   "outputs": [],
   "source": []
  }
 ],
 "metadata": {
  "kernelspec": {
   "display_name": "Python 3",
   "language": "python",
   "name": "python3"
  },
  "language_info": {
   "codemirror_mode": {
    "name": "ipython",
    "version": 3
   },
   "file_extension": ".py",
   "mimetype": "text/x-python",
   "name": "python",
   "nbconvert_exporter": "python",
   "pygments_lexer": "ipython3",
   "version": "3.8.1"
  }
 },
 "nbformat": 4,
 "nbformat_minor": 4
}
